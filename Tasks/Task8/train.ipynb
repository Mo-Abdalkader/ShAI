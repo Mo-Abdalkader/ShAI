{
 "cells": [
  {
   "cell_type": "markdown",
   "metadata": {
    "id": "vxs2h6RArTBa"
   },
   "source": [
    "# shAI Training 2022 | Level 1\n",
    "\n",
    "\n",
    "## (MNIST Project part 2)\n",
    "\n",
    "### Classification\n",
    "\n",
    "- Before you start make sure you have latest Jupyter notebook version \n",
    "- <font color= red> If you have older version fetching the data might be different  </font>  \n"
   ]
  },
  {
   "cell_type": "code",
   "execution_count": 1,
   "metadata": {
    "colab": {
     "base_uri": "https://localhost:8080/"
    },
    "id": "QdBvfmyGKepZ",
    "outputId": "9388a156-0bde-4097-e473-b2b482e8d947"
   },
   "outputs": [],
   "source": [
    "from tensorflow.keras.datasets import mnist\n",
    "(x_train, y_train), (x_test, y_test) = mnist.load_data()"
   ]
  },
  {
   "cell_type": "markdown",
   "metadata": {
    "id": "cNzsxLvArTBk"
   },
   "source": [
    "#### peek at one digit"
   ]
  },
  {
   "cell_type": "code",
   "execution_count": 2,
   "metadata": {
    "colab": {
     "base_uri": "https://localhost:8080/",
     "height": 248
    },
    "id": "DXg7k2bXrTBl",
    "outputId": "e83d0297-79da-4bcd-a5b4-edfae679bef8"
   },
   "outputs": [
    {
     "data": {
      "image/png": "[encoded data removed]",
      "text/plain": [
       "<Figure size 432x288 with 1 Axes>"
      ]
     },
     "metadata": {
      "needs_background": "light"
     },
     "output_type": "display_data"
    }
   ],
   "source": [
    "import matplotlib\n",
    "import matplotlib.pyplot as plt\n",
    "\n",
    "some_digit = x_train[40000]\n",
    "some_digit_image = some_digit.reshape(28, 28)\n",
    "\n",
    "plt.imshow(some_digit_image, cmap = matplotlib.cm.binary,\n",
    "interpolation=\"nearest\")\n",
    "plt.axis(\"off\")\n",
    "plt.show()"
   ]
  },
  {
   "cell_type": "code",
   "execution_count": 3,
   "metadata": {
    "id": "Hy96aNAONElJ"
   },
   "outputs": [],
   "source": [
    "y_train_5 = (y_train == 5)  \n",
    "y_test_5 = (y_test == 5)"
   ]
  },
  {
   "cell_type": "markdown",
   "metadata": {
    "id": "OHWeAl4Vtv6L"
   },
   "source": [
    "## **SGD Classifier  model**"
   ]
  },
  {
   "cell_type": "code",
   "execution_count": 4,
   "metadata": {
    "id": "CNjuU8EvrTBo"
   },
   "outputs": [],
   "source": [
    "from sklearn.linear_model import SGDClassifier\n",
    "sgd_clf = SGDClassifier(random_state=42)"
   ]
  },
  {
   "cell_type": "markdown",
   "metadata": {
    "id": "n1KiQlyO4bJd"
   },
   "source": [
    "the shape of x must be in 1 dimention "
   ]
  },
  {
   "cell_type": "code",
   "execution_count": 5,
   "metadata": {
    "id": "ekjXOk6r4GTT"
   },
   "outputs": [],
   "source": [
    "x_train= x_train.reshape(60000, 784)\n",
    "x_test = x_test. reshape(10000, 784)"
   ]
  },
  {
   "cell_type": "code",
   "execution_count": 6,
   "metadata": {
    "colab": {
     "base_uri": "https://localhost:8080/"
    },
    "id": "PSLLtowwOD2k",
    "outputId": "699667e5-93da-4e6d-eb3a-f087b789ebc1"
   },
   "outputs": [
    {
     "data": {
      "text/plain": [
       "SGDClassifier(random_state=42)"
      ]
     },
     "execution_count": 6,
     "metadata": {},
     "output_type": "execute_result"
    }
   ],
   "source": [
    "sgd_clf.fit(x_train, y_train) "
   ]
  },
  {
   "cell_type": "code",
   "execution_count": 7,
   "metadata": {
    "id": "mcESf4iBSRHP"
   },
   "outputs": [],
   "source": [
    "some_digit = x_train[40000]"
   ]
  },
  {
   "cell_type": "markdown",
   "metadata": {
    "id": "BVw_S__2rTBp"
   },
   "source": [
    "#### Try SGDCClassifier with multiple calss"
   ]
  },
  {
   "cell_type": "code",
   "execution_count": 8,
   "metadata": {
    "colab": {
     "base_uri": "https://localhost:8080/"
    },
    "id": "sgnh6yNPrTBp",
    "outputId": "eab6bbb3-7922-469b-a95e-0211f445b1d1"
   },
   "outputs": [
    {
     "data": {
      "text/plain": [
       "array([7], dtype=uint8)"
      ]
     },
     "execution_count": 8,
     "metadata": {},
     "output_type": "execute_result"
    }
   ],
   "source": [
    "# CODE HERE\n",
    "sgd_clf.predict([some_digit])"
   ]
  },
  {
   "cell_type": "markdown",
   "metadata": {
    "id": "kE7UFx7OrTBr"
   },
   "source": [
    "#### Call decision_function() method to return score for each instance "
   ]
  },
  {
   "cell_type": "code",
   "execution_count": 9,
   "metadata": {
    "colab": {
     "base_uri": "https://localhost:8080/"
    },
    "id": "2pzYdm9UrTBs",
    "outputId": "9db303c5-f22d-420a-c037-506c434c4d75"
   },
   "outputs": [
    {
     "data": {
      "text/plain": [
       "array([[-47063.43421946, -23169.89338437, -17374.57701952,\n",
       "         -6512.85004001, -20455.65971043, -13995.94980096,\n",
       "        -52045.87393571,   8907.01120414,  -3465.57377509,\n",
       "         -4516.20401187]])"
      ]
     },
     "execution_count": 9,
     "metadata": {},
     "output_type": "execute_result"
    }
   ],
   "source": [
    "# CODE HERE\n",
    "sgd_clf.decision_function([some_digit])"
   ]
  },
  {
   "cell_type": "markdown",
   "metadata": {
    "id": "qORDmctWrTBt"
   },
   "source": [
    "#### find highest score "
   ]
  },
  {
   "cell_type": "code",
   "execution_count": 10,
   "metadata": {
    "colab": {
     "base_uri": "https://localhost:8080/"
    },
    "id": "snNAridYrTBu",
    "outputId": "a916bc20-a4fa-40c1-fcff-5187a90de020"
   },
   "outputs": [
    {
     "data": {
      "text/plain": [
       "8907.011204135915"
      ]
     },
     "execution_count": 10,
     "metadata": {},
     "output_type": "execute_result"
    }
   ],
   "source": [
    "# CODE HERE\n",
    "sgd_clf.decision_function([some_digit]).max()"
   ]
  },
  {
   "cell_type": "markdown",
   "metadata": {
    "id": "FPz3QrbArTBu"
   },
   "source": [
    "#### list the target classes"
   ]
  },
  {
   "cell_type": "code",
   "execution_count": 11,
   "metadata": {
    "colab": {
     "base_uri": "https://localhost:8080/"
    },
    "id": "qrS46yuirTBv",
    "outputId": "d9bd22cc-24f3-41d0-b8bf-8bbf08da9efb"
   },
   "outputs": [
    {
     "data": {
      "text/plain": [
       "array([0, 1, 2, 3, 4, 5, 6, 7, 8, 9], dtype=uint8)"
      ]
     },
     "execution_count": 11,
     "metadata": {},
     "output_type": "execute_result"
    }
   ],
   "source": [
    "sgd_clf.classes_"
   ]
  },
  {
   "cell_type": "markdown",
   "metadata": {
    "id": "2TbllQderTBv"
   },
   "source": [
    "#### Find the the target class for 7"
   ]
  },
  {
   "cell_type": "code",
   "execution_count": 12,
   "metadata": {
    "colab": {
     "base_uri": "https://localhost:8080/"
    },
    "id": "lfAWQnVprTBw",
    "outputId": "e75fc6dd-05e3-401a-c552-0874b221992b"
   },
   "outputs": [
    {
     "data": {
      "text/plain": [
       "7"
      ]
     },
     "execution_count": 12,
     "metadata": {},
     "output_type": "execute_result"
    }
   ],
   "source": [
    "# CODE HERE\n",
    "# if you got stuck use GOOGLE\n",
    "# CODE HERE\n",
    "import numpy as np\n",
    "np.argmax(sgd_clf.decision_function([some_digit]))"
   ]
  },
  {
   "cell_type": "markdown",
   "metadata": {
    "id": "ujnFWm-RrTBx"
   },
   "source": [
    "#### Force ScikitLearn to use one-versus-one"
   ]
  },
  {
   "cell_type": "code",
   "execution_count": 13,
   "metadata": {
    "id": "6zN2QYJ0rTBx"
   },
   "outputs": [],
   "source": [
    "from sklearn.multiclass import OneVsOneClassifier"
   ]
  },
  {
   "cell_type": "code",
   "execution_count": 14,
   "metadata": {
    "colab": {
     "base_uri": "https://localhost:8080/"
    },
    "id": "iI43bCZnrTBx",
    "outputId": "d46ea505-ae8b-4be2-a324-94000df44328"
   },
   "outputs": [
    {
     "data": {
      "text/plain": [
       "OneVsOneClassifier(estimator=SGDClassifier(random_state=42))"
      ]
     },
     "execution_count": 14,
     "metadata": {},
     "output_type": "execute_result"
    }
   ],
   "source": [
    "# CODE HERE\n",
    "ovo_clf = OneVsOneClassifier(SGDClassifier(random_state=42))\n",
    "ovo_clf.fit(x_train,y_train)"
   ]
  },
  {
   "cell_type": "code",
   "execution_count": 15,
   "metadata": {
    "colab": {
     "base_uri": "https://localhost:8080/"
    },
    "id": "XE0xrssPUuF7",
    "outputId": "27589d43-e5ec-4bbf-bb21-b2a32d1f6c2f"
   },
   "outputs": [
    {
     "data": {
      "text/plain": [
       "array([7], dtype=uint8)"
      ]
     },
     "execution_count": 15,
     "metadata": {},
     "output_type": "execute_result"
    }
   ],
   "source": [
    "ovo_clf.predict([some_digit])"
   ]
  },
  {
   "cell_type": "markdown",
   "metadata": {
    "id": "kZcNpAenrTBy"
   },
   "source": [
    "#### find how many classifier OvO used"
   ]
  },
  {
   "cell_type": "code",
   "execution_count": 16,
   "metadata": {
    "colab": {
     "base_uri": "https://localhost:8080/"
    },
    "id": "Qj-h_2kOrTBy",
    "outputId": "2b00fda0-51f1-4def-8a9d-abec7cdb079b"
   },
   "outputs": [
    {
     "data": {
      "text/plain": [
       "45"
      ]
     },
     "execution_count": 16,
     "metadata": {},
     "output_type": "execute_result"
    }
   ],
   "source": [
    "# CODE HERE\n",
    "len(ovo_clf.estimators_)"
   ]
  },
  {
   "cell_type": "markdown",
   "metadata": {
    "id": "jY_URTfErTBz"
   },
   "source": [
    "#### Train  RandomForestClassifier "
   ]
  },
  {
   "cell_type": "code",
   "execution_count": 17,
   "metadata": {
    "id": "ij6mGZvWrTBz"
   },
   "outputs": [],
   "source": [
    "from sklearn.ensemble import RandomForestClassifier\n",
    "forest_clf = RandomForestClassifier(random_state=42)"
   ]
  },
  {
   "cell_type": "code",
   "execution_count": 18,
   "metadata": {
    "colab": {
     "base_uri": "https://localhost:8080/"
    },
    "id": "mLvACTVkrTB0",
    "outputId": "f21ef47c-be3a-4c82-ea6c-7f7c7313315f"
   },
   "outputs": [
    {
     "data": {
      "text/plain": [
       "RandomForestClassifier(random_state=42)"
      ]
     },
     "execution_count": 18,
     "metadata": {},
     "output_type": "execute_result"
    }
   ],
   "source": [
    "# CODE HERE\n",
    "forest_clf.fit(x_train,y_train)"
   ]
  },
  {
   "cell_type": "markdown",
   "metadata": {
    "id": "RAF55oQtrTB1"
   },
   "source": [
    "#### call predict_proba() to get the list of probabilities that the classifier assigned to each instance for each class"
   ]
  },
  {
   "cell_type": "code",
   "execution_count": 19,
   "metadata": {
    "colab": {
     "base_uri": "https://localhost:8080/"
    },
    "id": "Irh9e-QbrTB1",
    "outputId": "00537bfb-0770-4be7-e0cb-cd5bc0bfda95"
   },
   "outputs": [
    {
     "data": {
      "text/plain": [
       "array([[0.  , 0.  , 0.01, 0.  , 0.  , 0.  , 0.  , 0.99, 0.  , 0.  ]])"
      ]
     },
     "execution_count": 19,
     "metadata": {},
     "output_type": "execute_result"
    }
   ],
   "source": [
    "forest_clf.predict_proba([some_digit])"
   ]
  },
  {
   "cell_type": "code",
   "execution_count": 20,
   "metadata": {
    "colab": {
     "base_uri": "https://localhost:8080/"
    },
    "id": "4jvqkQkRVw-m",
    "outputId": "7ab0c098-94d3-4e04-ab8c-5900858e0822"
   },
   "outputs": [
    {
     "data": {
      "text/plain": [
       "0.99"
      ]
     },
     "execution_count": 20,
     "metadata": {},
     "output_type": "execute_result"
    }
   ],
   "source": [
    "forest_clf.predict_proba([some_digit]).max()"
   ]
  },
  {
   "cell_type": "code",
   "execution_count": 21,
   "metadata": {
    "colab": {
     "base_uri": "https://localhost:8080/"
    },
    "id": "FdDx1xvAVzFi",
    "outputId": "2a540641-133d-40aa-e3eb-1acf46572cd7"
   },
   "outputs": [
    {
     "data": {
      "text/plain": [
       "7"
      ]
     },
     "execution_count": 21,
     "metadata": {},
     "output_type": "execute_result"
    }
   ],
   "source": [
    "np.argmax(forest_clf.predict_proba([some_digit]))"
   ]
  },
  {
   "cell_type": "markdown",
   "metadata": {
    "id": "ds_FKkd8rTB1"
   },
   "source": [
    "#### Find accurcy using cross validation score ()"
   ]
  },
  {
   "cell_type": "code",
   "execution_count": 22,
   "metadata": {
    "id": "R4OUbQutrTB2"
   },
   "outputs": [],
   "source": [
    "from sklearn.model_selection import cross_val_score"
   ]
  },
  {
   "cell_type": "code",
   "execution_count": 23,
   "metadata": {
    "colab": {
     "base_uri": "https://localhost:8080/"
    },
    "id": "r33tbcVurTB2",
    "outputId": "286c96bd-aa0e-47dc-d8ec-ee8eae3c475e"
   },
   "outputs": [
    {
     "data": {
      "text/plain": [
       "array([0.87365, 0.85835, 0.8689 ])"
      ]
     },
     "execution_count": 23,
     "metadata": {},
     "output_type": "execute_result"
    }
   ],
   "source": [
    "# CODE HERE\n",
    "cross_val_score(sgd_clf, x_train, y_train, cv=3, scoring=\"accuracy\")"
   ]
  },
  {
   "cell_type": "code",
   "execution_count": 24,
   "metadata": {
    "colab": {
     "base_uri": "https://localhost:8080/"
    },
    "id": "bw2gZykCXvWq",
    "outputId": "7a994b03-427e-44ab-8005-29a62d9b6335"
   },
   "outputs": [
    {
     "data": {
      "text/plain": [
       "array([0.9646 , 0.96255, 0.9666 ])"
      ]
     },
     "execution_count": 24,
     "metadata": {},
     "output_type": "execute_result"
    }
   ],
   "source": [
    "cross_val_score(forest_clf, x_train, y_train, cv=3, scoring=\"accuracy\")"
   ]
  },
  {
   "cell_type": "markdown",
   "metadata": {
    "id": "-jzw9z22rTB2"
   },
   "source": [
    "#### to get better accurcy try scaling input"
   ]
  },
  {
   "cell_type": "code",
   "execution_count": 25,
   "metadata": {
    "id": "Z87Bmth8rTB3"
   },
   "outputs": [],
   "source": [
    "from sklearn.preprocessing import StandardScaler"
   ]
  },
  {
   "cell_type": "code",
   "execution_count": 26,
   "metadata": {
    "id": "ahuwFw8GrTB3"
   },
   "outputs": [],
   "source": [
    "# CODE HERE\n",
    "scaler = StandardScaler()\n",
    "x_train_scaled = scaler.fit_transform(x_train.astype(np.float64))"
   ]
  },
  {
   "cell_type": "code",
   "execution_count": 27,
   "metadata": {
    "colab": {
     "base_uri": "https://localhost:8080/"
    },
    "id": "L0OKbIfAYMiU",
    "outputId": "f9e3e5f8-78a8-4dc8-fcfa-83988132a8ff"
   },
   "outputs": [
    {
     "data": {
      "text/plain": [
       "array([0.8983, 0.891 , 0.9018])"
      ]
     },
     "execution_count": 27,
     "metadata": {},
     "output_type": "execute_result"
    }
   ],
   "source": [
    "cross_val_score(sgd_clf,x_train_scaled , y_train , cv=3, scoring = \"accuracy\")"
   ]
  },
  {
   "cell_type": "code",
   "execution_count": 28,
   "metadata": {
    "colab": {
     "base_uri": "https://localhost:8080/"
    },
    "id": "ZOXN12RMYkCR",
    "outputId": "83605140-52e5-451a-e9b9-dfda9c4e79bc"
   },
   "outputs": [
    {
     "data": {
      "text/plain": [
       "array([0.96445, 0.96255, 0.96645])"
      ]
     },
     "execution_count": 28,
     "metadata": {},
     "output_type": "execute_result"
    }
   ],
   "source": [
    "cross_val_score(forest_clf,x_train_scaled , y_train , cv=3, scoring = \"accuracy\")"
   ]
  },
  {
   "cell_type": "markdown",
   "metadata": {
    "id": "hoevqgexrTB4"
   },
   "source": [
    "## Error Analysis"
   ]
  },
  {
   "cell_type": "markdown",
   "metadata": {
    "id": "oJRRCJzXrTB4"
   },
   "source": [
    "#### Take a look at the confusion matrix"
   ]
  },
  {
   "cell_type": "code",
   "execution_count": 29,
   "metadata": {
    "id": "QjEb7wMMrTB4"
   },
   "outputs": [],
   "source": [
    "from sklearn.model_selection import cross_val_predict\n",
    "from sklearn.metrics import confusion_matrix"
   ]
  },
  {
   "cell_type": "code",
   "execution_count": 30,
   "metadata": {
    "colab": {
     "base_uri": "https://localhost:8080/"
    },
    "id": "dCNsUwlXrTB4",
    "outputId": "97ef1a4b-38e9-4b3e-af9c-e693a85c450b"
   },
   "outputs": [
    {
     "data": {
      "text/plain": [
       "array([[5577,    0,   22,    5,    8,   43,   36,    6,  225,    1],\n",
       "       [   0, 6400,   37,   24,    4,   44,    4,    7,  212,   10],\n",
       "       [  27,   27, 5220,   92,   73,   27,   67,   36,  378,   11],\n",
       "       [  22,   17,  117, 5227,    2,  203,   27,   40,  403,   73],\n",
       "       [  12,   14,   41,    9, 5182,   12,   34,   27,  347,  164],\n",
       "       [  27,   15,   30,  168,   53, 4444,   75,   14,  535,   60],\n",
       "       [  30,   15,   42,    3,   44,   97, 5552,    3,  131,    1],\n",
       "       [  21,   10,   51,   30,   49,   12,    3, 5684,  195,  210],\n",
       "       [  17,   63,   48,   86,    3,  126,   25,   10, 5429,   44],\n",
       "       [  25,   18,   30,   64,  118,   36,    1,  179,  371, 5107]],\n",
       "      dtype=int64)"
      ]
     },
     "execution_count": 30,
     "metadata": {},
     "output_type": "execute_result"
    }
   ],
   "source": [
    "# CODE HERE\n",
    "y_train_pred = cross_val_predict(sgd_clf, x_train_scaled, y_train, cv=3)\n",
    "conf_mx = confusion_matrix(y_train, y_train_pred, )\n",
    "conf_mx"
   ]
  },
  {
   "cell_type": "markdown",
   "metadata": {
    "id": "hBHF2iJWrTB5"
   },
   "source": [
    "#### using Matplotlib’s matshow() function look at an image representation of the confusion matrix"
   ]
  },
  {
   "cell_type": "code",
   "execution_count": 31,
   "metadata": {
    "colab": {
     "base_uri": "https://localhost:8080/",
     "height": 275
    },
    "id": "_nMxOLjtrTB5",
    "outputId": "a76c9abc-7ad9-4623-af3a-adb835b92f7e"
   },
   "outputs": [
    {
     "data": {
      "image/png": "[encoded data removed]",
      "text/plain": [
       "<Figure size 288x288 with 1 Axes>"
      ]
     },
     "metadata": {
      "needs_background": "light"
     },
     "output_type": "display_data"
    }
   ],
   "source": [
    "# CODE HERE\n",
    "plt.matshow(conf_mx, cmap=plt.cm.gray)\n",
    "plt.show()"
   ]
  },
  {
   "cell_type": "markdown",
   "metadata": {
    "id": "Xm6cFW72rTB6"
   },
   "source": [
    "#### Dividing each value in the confusion matrix by the number of images in the corresponding class"
   ]
  },
  {
   "cell_type": "code",
   "execution_count": 32,
   "metadata": {
    "id": "hNDkHceZrTB6"
   },
   "outputs": [],
   "source": [
    "row_sums = conf_mx.sum(axis=1, keepdims=True)\n",
    "norm_conf_mx = conf_mx / row_sums"
   ]
  },
  {
   "cell_type": "markdown",
   "metadata": {
    "id": "7wdHyF8urTB6"
   },
   "source": [
    "#### fill the diagonal with zeros to keep only the errors"
   ]
  },
  {
   "cell_type": "code",
   "execution_count": 33,
   "metadata": {
    "colab": {
     "base_uri": "https://localhost:8080/",
     "height": 292
    },
    "id": "oSWl-lE7rTB7",
    "outputId": "ae6db32c-9ff8-4a1c-db33-7e415f87d424",
    "scrolled": true
   },
   "outputs": [
    {
     "data": {
      "text/plain": [
       "<matplotlib.image.AxesImage at 0x17448dc3d90>"
      ]
     },
     "execution_count": 33,
     "metadata": {},
     "output_type": "execute_result"
    },
    {
     "data": {
      "image/png": "[encoded data removed]",
      "text/plain": [
       "<Figure size 288x288 with 1 Axes>"
      ]
     },
     "metadata": {
      "needs_background": "light"
     },
     "output_type": "display_data"
    }
   ],
   "source": [
    "# CODE HERE\n",
    "np.fill_diagonal(norm_conf_mx,0)\n",
    "plt.matshow(norm_conf_mx,cmap=plt.cm.gray)"
   ]
  },
  {
   "cell_type": "code",
   "execution_count": 34,
   "metadata": {
    "id": "D0l_VaVgrTB7"
   },
   "outputs": [],
   "source": [
    "def plot_digits(instances, images_per_row=10, **options): \n",
    "    size = 28 \n",
    "    images_per_row = min(len(instances), images_per_row) \n",
    "    images = [instance.reshape(size,size) for instance in instances] \n",
    "    n_rows = (len(instances) - 1) // images_per_row + 1 \n",
    "    row_images = [] \n",
    "    n_empty = n_rows * images_per_row - len(instances) \n",
    "    images.append(np.zeros((size, size * n_empty)))  \n",
    "    for row in range(n_rows): \n",
    "        rimages = images[row * images_per_row : (row + 1) * images_per_row] \n",
    "        row_images.append(np.concatenate(rimages, axis=1)) \n",
    "    image = np.concatenate(row_images, axis=0) \n",
    "    plt.imshow(image, cmap = plt.cm.binary, **options) \n",
    "    plt.axis(\"off\") "
   ]
  },
  {
   "cell_type": "code",
   "execution_count": 35,
   "metadata": {
    "colab": {
     "base_uri": "https://localhost:8080/",
     "height": 466
    },
    "id": "zB3v1j3wmeLi",
    "outputId": "36d7ac8a-3604-489b-d3e9-ff721699de05"
   },
   "outputs": [
    {
     "data": {
      "image/png": "[encoded data removed]",
      "text/plain": [
       "<Figure size 576x576 with 4 Axes>"
      ]
     },
     "metadata": {
      "needs_background": "light"
     },
     "output_type": "display_data"
    }
   ],
   "source": [
    "cl_a, cl_b = 5, 8\n",
    "X_aa = x_train[(y_train == cl_a) & (y_train_pred == cl_a)]\n",
    "X_ab = x_train[(y_train == cl_a) & (y_train_pred == cl_b)]\n",
    "X_ba = x_train[(y_train == cl_b) & (y_train_pred == cl_a)]\n",
    "X_bb = x_train[(y_train == cl_b) & (y_train_pred == cl_b)]\n",
    "plt.figure(figsize=(8,8))\n",
    "plt.subplot(221); plot_digits(X_aa[:25], images_per_row=5)\n",
    "plt.subplot(222); plot_digits(X_ab[:25], images_per_row=5)\n",
    "plt.subplot(223); plot_digits(X_ba[:25], images_per_row=5)\n",
    "plt.subplot(224); plot_digits(X_bb[:25], images_per_row=5)\n",
    "plt.show()"
   ]
  },
  {
   "cell_type": "markdown",
   "metadata": {
    "id": "dCLTtG50rTB9"
   },
   "source": [
    "## Multilabel Classification"
   ]
  },
  {
   "cell_type": "markdown",
   "metadata": {
    "id": "CRVGta9irTB9"
   },
   "source": [
    "#### creates a y_multilabel array containing two target labels for each digit image"
   ]
  },
  {
   "cell_type": "code",
   "execution_count": 36,
   "metadata": {
    "colab": {
     "base_uri": "https://localhost:8080/"
    },
    "id": "ImrC91BPrTB9",
    "outputId": "981c2936-727f-4d76-b208-6936090592b7"
   },
   "outputs": [
    {
     "data": {
      "text/plain": [
       "KNeighborsClassifier()"
      ]
     },
     "execution_count": 36,
     "metadata": {},
     "output_type": "execute_result"
    }
   ],
   "source": [
    "from sklearn.neighbors import KNeighborsClassifier\n",
    "y_train_large = (y_train >= 7)\n",
    "y_train_odd = (y_train%2 == 1)\n",
    "y_multilabel = np.c_[y_train_large, y_train_odd]\n",
    "knn_clf = KNeighborsClassifier()\n",
    "knn_clf.fit(x_train, y_multilabel)"
   ]
  },
  {
   "cell_type": "markdown",
   "metadata": {
    "id": "nJcwu7UfrTB-"
   },
   "source": [
    "#### find the prediction"
   ]
  },
  {
   "cell_type": "code",
   "execution_count": 37,
   "metadata": {
    "colab": {
     "base_uri": "https://localhost:8080/"
    },
    "id": "0n2fcDbArTB-",
    "outputId": "dfabaf5e-9dc4-4139-9342-f426d6829d11"
   },
   "outputs": [
    {
     "data": {
      "text/plain": [
       "array([[ True,  True]])"
      ]
     },
     "execution_count": 37,
     "metadata": {},
     "output_type": "execute_result"
    }
   ],
   "source": [
    "# CODE HERE\n",
    "knn_clf.predict([some_digit])"
   ]
  },
  {
   "cell_type": "markdown",
   "metadata": {
    "id": "ymiEXPfprTB-"
   },
   "source": [
    "#### computes the average F1 score across all labels\n",
    "***Warning: the following cell may take a very long time (possibly hours depending on your hardware)***"
   ]
  },
  {
   "cell_type": "code",
   "execution_count": 38,
   "metadata": {
    "id": "tOrUjiMgrTB-"
   },
   "outputs": [],
   "source": [
    "#y_train_knn_pred = cross_val_predict(knn_clf, X_train, y_train, cv=3)\n",
    "#f1_score(y_train, y_train_knn_pred, average=\"macro\")"
   ]
  },
  {
   "cell_type": "markdown",
   "metadata": {
    "id": "cWLtvNU5rTB_"
   },
   "source": [
    "## Multioutput Classification\n"
   ]
  },
  {
   "cell_type": "code",
   "execution_count": 39,
   "metadata": {
    "id": "7v8ab76ZmAwc"
   },
   "outputs": [],
   "source": [
    "x_test = x_test.reshape(10000,784)"
   ]
  },
  {
   "cell_type": "code",
   "execution_count": 40,
   "metadata": {
    "id": "2FS4erJ1rTB_"
   },
   "outputs": [],
   "source": [
    "noise = np.random.randint(0, 100, (len(x_train), 784))\n",
    "X_train_mod = x_train + noise\n",
    "noise = np.random.randint(0, 100, (len(x_test), 784))\n",
    "X_test_mod = x_test + noise\n",
    "y_train_mod = x_train\n",
    "y_test_mod = x_test"
   ]
  },
  {
   "cell_type": "code",
   "execution_count": 41,
   "metadata": {
    "id": "uf0QfKNxn1qz"
   },
   "outputs": [],
   "source": [
    "knn_clf.fit(X_train_mod, y_train_mod)\n",
    "clean_digit = knn_clf.predict([X_test_mod[0]]) "
   ]
  },
  {
   "cell_type": "code",
   "execution_count": 42,
   "metadata": {
    "id": "HZkj7NxqrDdP"
   },
   "outputs": [],
   "source": [
    "x_test=x_test.reshape(10000,28,28)"
   ]
  },
  {
   "cell_type": "code",
   "execution_count": 43,
   "metadata": {
    "colab": {
     "base_uri": "https://localhost:8080/",
     "height": 130
    },
    "id": "bnZj0EI6qgwh",
    "outputId": "7c600c8b-a99e-4eab-81fd-e0444a8cb3a3"
   },
   "outputs": [
    {
     "data": {
      "image/png": "[encoded data removed]",
      "text/plain": [
       "<Figure size 432x288 with 2 Axes>"
      ]
     },
     "metadata": {
      "needs_background": "light"
     },
     "output_type": "display_data"
    }
   ],
   "source": [
    "plt.subplot(221);plot_digits([X_test_mod[0]])\n",
    "plt.subplot(222);plot_digits([x_test[0]]) "
   ]
  },
  {
   "cell_type": "markdown",
   "metadata": {
    "id": "7kqvQk1qrTB_"
   },
   "source": [
    "#### Let’s take a peek at an image from the test set"
   ]
  },
  {
   "cell_type": "code",
   "execution_count": 44,
   "metadata": {
    "colab": {
     "base_uri": "https://localhost:8080/",
     "height": 248
    },
    "id": "jzaG_GAArTCA",
    "outputId": "a0c5ed06-3f68-4910-b243-c47f198d1fa0"
   },
   "outputs": [
    {
     "data": {
      "image/png": "[encoded data removed]",
      "text/plain": [
       "<Figure size 432x288 with 1 Axes>"
      ]
     },
     "metadata": {
      "needs_background": "light"
     },
     "output_type": "display_data"
    }
   ],
   "source": [
    "# CODE HERE\n",
    "plot_digits(clean_digit)"
   ]
  },
  {
   "cell_type": "markdown",
   "metadata": {
    "id": "IsM8nCFCrTCA"
   },
   "source": [
    "# Congrats you've finished your first classification Project🥳 !\n",
    "# #shAI_Club"
   ]
  }
 ],
 "metadata": {
  "colab": {
   "collapsed_sections": [],
   "provenance": []
  },
  "kernelspec": {
   "display_name": "Python 3 (ipykernel)",
   "language": "python",
   "name": "python3"
  },
  "language_info": {
   "codemirror_mode": {
    "name": "ipython",
    "version": 3
   },
   "file_extension": ".py",
   "mimetype": "text/x-python",
   "name": "python",
   "nbconvert_exporter": "python",
   "pygments_lexer": "ipython3",
   "version": "3.9.7"
  }
 },
 "nbformat": 4,
 "nbformat_minor": 1
}
